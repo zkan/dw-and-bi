{
 "cells": [
  {
   "cell_type": "markdown",
   "id": "893b937a-206a-4738-9b10-f45bc1216923",
   "metadata": {},
   "source": [
    "# ETL with Spark (Local)"
   ]
  },
  {
   "cell_type": "code",
   "execution_count": 1,
   "id": "22df453c",
   "metadata": {},
   "outputs": [],
   "source": [
    "from pyspark.sql import SparkSession\n",
    "# from pyspark.sql.types import StructType, StructField, DoubleType, StringType, IntegerType, DateType, TimestampType\n",
    "\n",
    "# import pyspark.sql.functions as F"
   ]
  },
  {
   "cell_type": "code",
   "execution_count": 2,
   "id": "43fde3d9-e1ce-49dc-b8df-41b6daf82342",
   "metadata": {},
   "outputs": [],
   "source": [
    "import pandas as pd\n",
    "import glob"
   ]
  },
  {
   "cell_type": "code",
   "execution_count": 3,
   "id": "f1e6c116-0c9c-45dc-9767-09a5682daaa6",
   "metadata": {},
   "outputs": [],
   "source": [
    "p = glob.glob(\"data/*.json\")"
   ]
  },
  {
   "cell_type": "code",
   "execution_count": 4,
   "id": "92a7e6c1-cfa8-46f4-956b-4b1159ccf43c",
   "metadata": {},
   "outputs": [
    {
     "data": {
      "text/plain": [
       "['data/github_events_01.json', 'data/github_events_02.json']"
      ]
     },
     "execution_count": 4,
     "metadata": {},
     "output_type": "execute_result"
    }
   ],
   "source": [
    "p"
   ]
  },
  {
   "cell_type": "code",
   "execution_count": null,
   "id": "c8ddf25d",
   "metadata": {},
   "outputs": [],
   "source": [
    "data = \"github_events_01.json\""
   ]
  },
  {
   "cell_type": "code",
   "execution_count": null,
   "id": "2fcef1bd-461d-43b1-a8bc-50a977e9ff36",
   "metadata": {},
   "outputs": [],
   "source": [
    "data_2 = \"github_events_02.json\""
   ]
  },
  {
   "cell_type": "code",
   "execution_count": 5,
   "id": "967f8dc3",
   "metadata": {},
   "outputs": [],
   "source": [
    "spark = SparkSession.builder \\\n",
    "    .appName(\"ETL\") \\\n",
    "    .getOrCreate()"
   ]
  },
  {
   "cell_type": "code",
   "execution_count": 6,
   "id": "8e96bf96-473c-40cf-85f6-1256f79db6d4",
   "metadata": {},
   "outputs": [],
   "source": [
    "data_folder = \"data\""
   ]
  },
  {
   "cell_type": "code",
   "execution_count": 7,
   "id": "d63bfa2f",
   "metadata": {},
   "outputs": [],
   "source": [
    "data = spark.read.option(\"multiline\", \"true\").json(data_folder)"
   ]
  },
  {
   "cell_type": "code",
   "execution_count": null,
   "id": "dc7627e5-d283-40b7-a075-6dea0ec8e37a",
   "metadata": {},
   "outputs": [],
   "source": [
    "# data = spark.read.option(\"multiline\", \"true\").json(data_2)"
   ]
  },
  {
   "cell_type": "code",
   "execution_count": 8,
   "id": "d02a69a6-f048-4ce4-b0a0-67a3a2302a35",
   "metadata": {},
   "outputs": [
    {
     "name": "stdout",
     "output_type": "stream",
     "text": [
      "+--------------------+--------------------+-----------+--------------------+--------------------+------+--------------------+--------------------+\n",
      "|               actor|          created_at|         id|                 org|             payload|public|                repo|                type|\n",
      "+--------------------+--------------------+-----------+--------------------+--------------------+------+--------------------+--------------------+\n",
      "|{https://avatars....|2022-08-17T15:52:40Z|23487963576|{https://avatars....|{started, NULL, N...|  true|{6296790, spring-...|          WatchEvent|\n",
      "|{https://avatars....|2022-08-17T15:52:40Z|23487963624|                NULL|{NULL, NULL, NULL...|  true|{525860969, gurra...|         CreateEvent|\n",
      "|{https://avatars....|2022-08-17T15:52:40Z|23487963529|                NULL|{NULL, e80c84c7bb...|  true|{350706029, afbel...|           PushEvent|\n",
      "|{https://avatars....|2022-08-17T15:52:40Z|23487963558|{https://avatars....|{created, NULL, {...|  true|{226399669, CMSgo...|   IssueCommentEvent|\n",
      "|{https://avatars....|2022-08-17T15:52:40Z|23487963581|{https://avatars....|{closed, NULL, NU...|  true|{521980272, casdo...|    PullRequestEvent|\n",
      "|{https://avatars....|2022-08-17T15:52:40Z|23487963532|                NULL|{NULL, 949a3091ee...|  true|{438998478, mnw10...|           PushEvent|\n",
      "|{https://avatars....|2022-08-17T15:52:40Z|23487963524|                NULL|{NULL, 4d7f125c5a...|  true|{525362201, ikjo9...|           PushEvent|\n",
      "|{https://avatars....|2022-08-17T15:52:40Z|23487963526|                NULL|{NULL, 2e77809fdc...|  true|{500139646, Gabe6...|           PushEvent|\n",
      "|{https://avatars....|2022-08-17T15:52:40Z|23487963492|                NULL|{NULL, 910376827e...|  true|{268298723, BadPr...|           PushEvent|\n",
      "|{https://avatars....|2022-08-17T15:52:40Z|23487963504|{https://avatars....|{NULL, NULL, NULL...|  true|{399546191, ALMA-...|         DeleteEvent|\n",
      "|{https://avatars....|2022-08-17T15:52:40Z|23487963536|{https://avatars....|{created, NULL, N...|  true|{512700417, morph...|PullRequestReview...|\n",
      "|{https://avatars....|2022-08-17T15:52:40Z|23487963495|                NULL|{NULL, NULL, NULL...|  true|{525860287, Diyou...|         CreateEvent|\n",
      "|{https://avatars....|2022-08-17T15:52:40Z|23487963522|                NULL|{NULL, 17627fefe0...|  true|{522510250, tilti...|           PushEvent|\n",
      "|{https://avatars....|2022-08-17T15:52:40Z|23487963444|                NULL|{NULL, 4d36570cd9...|  true|{525859727, igrek...|           PushEvent|\n",
      "|{https://avatars....|2022-08-17T15:52:40Z|23487963462|{https://avatars....|{opened, NULL, NU...|  true|{509700187, TeamD...|    PullRequestEvent|\n",
      "|{https://avatars....|2022-08-17T15:52:40Z|23487963480|{https://avatars....|{closed, NULL, NU...|  true|{138224079, modin...|         IssuesEvent|\n",
      "|{https://avatars....|2022-08-17T15:52:40Z|23487963457|                NULL|{NULL, c8ebea9f3a...|  true|{495043847, na4za...|           PushEvent|\n",
      "|{https://avatars....|2022-08-17T15:52:40Z|23487963413|                NULL|{NULL, 53b7c9e8d1...|  true|{525476229, xsidc...|           PushEvent|\n",
      "|{https://avatars....|2022-08-17T15:52:40Z|23487963429|                NULL|{NULL, 2d1c65c4b5...|  true|{435120097, kkuke...|           PushEvent|\n",
      "|{https://avatars....|2022-08-17T15:52:40Z|23487963448|                NULL|{NULL, 7aba7f2d29...|  true|{484665561, Sidal...|           PushEvent|\n",
      "+--------------------+--------------------+-----------+--------------------+--------------------+------+--------------------+--------------------+\n",
      "only showing top 20 rows\n",
      "\n"
     ]
    }
   ],
   "source": [
    "data.show()"
   ]
  },
  {
   "cell_type": "code",
   "execution_count": null,
   "id": "f0a94871",
   "metadata": {},
   "outputs": [],
   "source": [
    "data.printSchema()"
   ]
  },
  {
   "cell_type": "code",
   "execution_count": 9,
   "id": "78a869d2-9ac5-4070-9102-219e01f2a740",
   "metadata": {},
   "outputs": [
    {
     "name": "stdout",
     "output_type": "stream",
     "text": [
      "+-----------+--------------------+\n",
      "|         id|                type|\n",
      "+-----------+--------------------+\n",
      "|23487963576|          WatchEvent|\n",
      "|23487963624|         CreateEvent|\n",
      "|23487963529|           PushEvent|\n",
      "|23487963558|   IssueCommentEvent|\n",
      "|23487963581|    PullRequestEvent|\n",
      "|23487963532|           PushEvent|\n",
      "|23487963524|           PushEvent|\n",
      "|23487963526|           PushEvent|\n",
      "|23487963492|           PushEvent|\n",
      "|23487963504|         DeleteEvent|\n",
      "|23487963536|PullRequestReview...|\n",
      "|23487963495|         CreateEvent|\n",
      "|23487963522|           PushEvent|\n",
      "|23487963444|           PushEvent|\n",
      "|23487963462|    PullRequestEvent|\n",
      "|23487963480|         IssuesEvent|\n",
      "|23487963457|           PushEvent|\n",
      "|23487963413|           PushEvent|\n",
      "|23487963429|           PushEvent|\n",
      "|23487963448|           PushEvent|\n",
      "+-----------+--------------------+\n",
      "only showing top 20 rows\n",
      "\n"
     ]
    }
   ],
   "source": [
    "data.select(\"id\", \"type\").show()"
   ]
  },
  {
   "cell_type": "code",
   "execution_count": 10,
   "id": "0a80aace",
   "metadata": {},
   "outputs": [],
   "source": [
    "data.createOrReplaceTempView(\"staging_events\")"
   ]
  },
  {
   "cell_type": "code",
   "execution_count": 11,
   "id": "b582ae43-5961-4a40-a9c0-696404ed1dc7",
   "metadata": {},
   "outputs": [
    {
     "name": "stdout",
     "output_type": "stream",
     "text": [
      "+--------------------+--------------------+-----------+--------------------+--------------------+------+--------------------+--------------------+\n",
      "|               actor|          created_at|         id|                 org|             payload|public|                repo|                type|\n",
      "+--------------------+--------------------+-----------+--------------------+--------------------+------+--------------------+--------------------+\n",
      "|{https://avatars....|2022-08-17T15:52:40Z|23487963576|{https://avatars....|{started, NULL, N...|  true|{6296790, spring-...|          WatchEvent|\n",
      "|{https://avatars....|2022-08-17T15:52:40Z|23487963624|                NULL|{NULL, NULL, NULL...|  true|{525860969, gurra...|         CreateEvent|\n",
      "|{https://avatars....|2022-08-17T15:52:40Z|23487963529|                NULL|{NULL, e80c84c7bb...|  true|{350706029, afbel...|           PushEvent|\n",
      "|{https://avatars....|2022-08-17T15:52:40Z|23487963558|{https://avatars....|{created, NULL, {...|  true|{226399669, CMSgo...|   IssueCommentEvent|\n",
      "|{https://avatars....|2022-08-17T15:52:40Z|23487963581|{https://avatars....|{closed, NULL, NU...|  true|{521980272, casdo...|    PullRequestEvent|\n",
      "|{https://avatars....|2022-08-17T15:52:40Z|23487963532|                NULL|{NULL, 949a3091ee...|  true|{438998478, mnw10...|           PushEvent|\n",
      "|{https://avatars....|2022-08-17T15:52:40Z|23487963524|                NULL|{NULL, 4d7f125c5a...|  true|{525362201, ikjo9...|           PushEvent|\n",
      "|{https://avatars....|2022-08-17T15:52:40Z|23487963526|                NULL|{NULL, 2e77809fdc...|  true|{500139646, Gabe6...|           PushEvent|\n",
      "|{https://avatars....|2022-08-17T15:52:40Z|23487963492|                NULL|{NULL, 910376827e...|  true|{268298723, BadPr...|           PushEvent|\n",
      "|{https://avatars....|2022-08-17T15:52:40Z|23487963504|{https://avatars....|{NULL, NULL, NULL...|  true|{399546191, ALMA-...|         DeleteEvent|\n",
      "|{https://avatars....|2022-08-17T15:52:40Z|23487963536|{https://avatars....|{created, NULL, N...|  true|{512700417, morph...|PullRequestReview...|\n",
      "|{https://avatars....|2022-08-17T15:52:40Z|23487963495|                NULL|{NULL, NULL, NULL...|  true|{525860287, Diyou...|         CreateEvent|\n",
      "|{https://avatars....|2022-08-17T15:52:40Z|23487963522|                NULL|{NULL, 17627fefe0...|  true|{522510250, tilti...|           PushEvent|\n",
      "|{https://avatars....|2022-08-17T15:52:40Z|23487963444|                NULL|{NULL, 4d36570cd9...|  true|{525859727, igrek...|           PushEvent|\n",
      "|{https://avatars....|2022-08-17T15:52:40Z|23487963462|{https://avatars....|{opened, NULL, NU...|  true|{509700187, TeamD...|    PullRequestEvent|\n",
      "|{https://avatars....|2022-08-17T15:52:40Z|23487963480|{https://avatars....|{closed, NULL, NU...|  true|{138224079, modin...|         IssuesEvent|\n",
      "|{https://avatars....|2022-08-17T15:52:40Z|23487963457|                NULL|{NULL, c8ebea9f3a...|  true|{495043847, na4za...|           PushEvent|\n",
      "|{https://avatars....|2022-08-17T15:52:40Z|23487963413|                NULL|{NULL, 53b7c9e8d1...|  true|{525476229, xsidc...|           PushEvent|\n",
      "|{https://avatars....|2022-08-17T15:52:40Z|23487963429|                NULL|{NULL, 2d1c65c4b5...|  true|{435120097, kkuke...|           PushEvent|\n",
      "|{https://avatars....|2022-08-17T15:52:40Z|23487963448|                NULL|{NULL, 7aba7f2d29...|  true|{484665561, Sidal...|           PushEvent|\n",
      "+--------------------+--------------------+-----------+--------------------+--------------------+------+--------------------+--------------------+\n",
      "only showing top 20 rows\n",
      "\n"
     ]
    }
   ],
   "source": [
    "table = spark.sql(\"\"\"\n",
    "    select\n",
    "        *\n",
    "        \n",
    "    from\n",
    "        staging_events\n",
    "\"\"\").show()"
   ]
  },
  {
   "cell_type": "code",
   "execution_count": 12,
   "id": "7347e0c8",
   "metadata": {},
   "outputs": [],
   "source": [
    "table = spark.sql(\"\"\"\n",
    "    select\n",
    "        id\n",
    "        , type\n",
    "        , created_at\n",
    "        , to_date(created_at) as date\n",
    "        , year(created_at) as year\n",
    "        , actor.login\n",
    "        , actor.url as actor_url\n",
    "        , repo.name\n",
    "        , repo.url as repo_url\n",
    "        \n",
    "    from\n",
    "        staging_events\n",
    "\"\"\")"
   ]
  },
  {
   "cell_type": "code",
   "execution_count": 13,
   "id": "917cf32e",
   "metadata": {},
   "outputs": [
    {
     "name": "stdout",
     "output_type": "stream",
     "text": [
      "+-----------+--------------------+--------------------+----------+----+--------------+--------------------+--------------------+--------------------+\n",
      "|         id|                type|          created_at|      date|year|         login|           actor_url|                name|            repo_url|\n",
      "+-----------+--------------------+--------------------+----------+----+--------------+--------------------+--------------------+--------------------+\n",
      "|23487963576|          WatchEvent|2022-08-17T15:52:40Z|2022-08-17|2022|    evilgaoshu|https://api.githu...|spring-projects/s...|https://api.githu...|\n",
      "|23487963624|         CreateEvent|2022-08-17T15:52:40Z|2022-08-17|2022|      gurram47|https://api.githu...|gurram47/AP201100...|https://api.githu...|\n",
      "|23487963529|           PushEvent|2022-08-17T15:52:40Z|2022-08-17|2022|    afbeltranr|https://api.githu...| afbeltranr/Agrilab2|https://api.githu...|\n",
      "|23487963558|   IssueCommentEvent|2022-08-17T15:52:40Z|2022-08-17|2022|      karla-vm|https://api.githu...|CMSgov/cms-carts-...|https://api.githu...|\n",
      "|23487963581|    PullRequestEvent|2022-08-17T15:52:40Z|2022-08-17|2022|       hsluoyz|https://api.githu...|casdoor/casdoor-c...|https://api.githu...|\n",
      "|23487963532|           PushEvent|2022-08-17T15:52:40Z|2022-08-17|2022|       mnw1020|https://api.githu...|    mnw1020/obsidian|https://api.githu...|\n",
      "|23487963524|           PushEvent|2022-08-17T15:52:40Z|2022-08-17|2022|        ikjo93|https://api.githu...|ikjo93/Data-Struc...|https://api.githu...|\n",
      "|23487963526|           PushEvent|2022-08-17T15:52:40Z|2022-08-17|2022|       Gabe616|https://api.githu...|Gabe616/ObbyCreat...|https://api.githu...|\n",
      "|23487963492|           PushEvent|2022-08-17T15:52:40Z|2022-08-17|2022|  BadProfessor|https://api.githu...|    BadProfessor/INL|https://api.githu...|\n",
      "|23487963504|         DeleteEvent|2022-08-17T15:52:40Z|2022-08-17|2022|      allanrg4|https://api.githu...|ALMA-FUNDEGUA/vac...|https://api.githu...|\n",
      "|23487963536|PullRequestReview...|2022-08-17T15:52:40Z|2022-08-17|2022|     QGarchery|https://api.githu...|morpho-dao/morpho...|https://api.githu...|\n",
      "|23487963495|         CreateEvent|2022-08-17T15:52:40Z|2022-08-17|2022|        Diyouf|https://api.githu...|Diyouf/newpage.gi...|https://api.githu...|\n",
      "|23487963522|           PushEvent|2022-08-17T15:52:40Z|2022-08-17|2022|tiltingpenguin|https://api.githu...|tiltingpenguin/uyuni|https://api.githu...|\n",
      "|23487963444|           PushEvent|2022-08-17T15:52:40Z|2022-08-17|2022|     igrek-ovs|https://api.githu...|igrek-ovs/igrek-o...|https://api.githu...|\n",
      "|23487963462|    PullRequestEvent|2022-08-17T15:52:40Z|2022-08-17|2022|       cchanmi|https://api.githu...|TeamDearToday/Dea...|https://api.githu...|\n",
      "|23487963480|         IssuesEvent|2022-08-17T15:52:40Z|2022-08-17|2022|   mvashishtha|https://api.githu...| modin-project/modin|https://api.githu...|\n",
      "|23487963457|           PushEvent|2022-08-17T15:52:40Z|2022-08-17|2022|     na4zagin3|https://api.githu...|na4zagin3/satyrog...|https://api.githu...|\n",
      "|23487963413|           PushEvent|2022-08-17T15:52:40Z|2022-08-17|2022|         xsidc|https://api.githu...|       xsidc/monmiao|https://api.githu...|\n",
      "|23487963429|           PushEvent|2022-08-17T15:52:40Z|2022-08-17|2022|      kkukelka|https://api.githu...|kkukelka/nft-gallery|https://api.githu...|\n",
      "|23487963448|           PushEvent|2022-08-17T15:52:40Z|2022-08-17|2022|      Sidalvik|https://api.githu...|Sidalvik/005-Sida...|https://api.githu...|\n",
      "+-----------+--------------------+--------------------+----------+----+--------------+--------------------+--------------------+--------------------+\n",
      "only showing top 20 rows\n",
      "\n"
     ]
    }
   ],
   "source": [
    "table.show()"
   ]
  },
  {
   "cell_type": "code",
   "execution_count": 14,
   "id": "2b0dd36b-e33e-4f04-8cb4-46c307b0d8b9",
   "metadata": {},
   "outputs": [],
   "source": [
    "output_csv = \"output_csv\"\n",
    "output_parquet = \"output_parquet\""
   ]
  },
  {
   "cell_type": "code",
   "execution_count": 15,
   "id": "74af3629",
   "metadata": {},
   "outputs": [],
   "source": [
    "table.write.partitionBy(\"year\").mode(\"overwrite\").csv(output_csv)"
   ]
  },
  {
   "cell_type": "code",
   "execution_count": 16,
   "id": "5fcbfd76",
   "metadata": {},
   "outputs": [],
   "source": [
    "table.write.partitionBy(\"year\").mode(\"overwrite\").parquet(output_parquet)"
   ]
  },
  {
   "cell_type": "code",
   "execution_count": null,
   "id": "194c1b1c-7515-49a0-b480-9a3ed3b1eac7",
   "metadata": {},
   "outputs": [],
   "source": []
  },
  {
   "cell_type": "code",
   "execution_count": null,
   "id": "b339cfef-adda-4767-91d3-450a1a01b12e",
   "metadata": {},
   "outputs": [],
   "source": []
  },
  {
   "cell_type": "code",
   "execution_count": 17,
   "id": "386680d8-17a3-454e-a576-7b8d5d39d71c",
   "metadata": {},
   "outputs": [],
   "source": [
    "table = spark.sql(\"\"\"\n",
    "    select\n",
    "        id\n",
    "        , type\n",
    "        , created_at\n",
    "        , day(created_at) as day\n",
    "        , month(created_at) as month\n",
    "        , year(created_at) as year\n",
    "        , date(created_at) as date\n",
    "    from\n",
    "        staging_events\n",
    "\"\"\")"
   ]
  },
  {
   "cell_type": "code",
   "execution_count": null,
   "id": "460e2991-f572-4173-8f9e-814372de6f77",
   "metadata": {},
   "outputs": [],
   "source": [
    "table.show()"
   ]
  },
  {
   "cell_type": "code",
   "execution_count": 18,
   "id": "74a2427a-a262-463c-b2c4-a74384a4b6d3",
   "metadata": {},
   "outputs": [],
   "source": [
    "destination = \"events\""
   ]
  },
  {
   "cell_type": "code",
   "execution_count": 19,
   "id": "04167b09-dd0e-429d-8a1c-9bac062ea2d4",
   "metadata": {},
   "outputs": [],
   "source": [
    "table.write.partitionBy(\"year\", \"month\", \"day\").mode(\"overwrite\").csv(destination)"
   ]
  },
  {
   "cell_type": "code",
   "execution_count": null,
   "id": "90a4c15f-387c-4e3d-b897-ea44d7dd7ec4",
   "metadata": {},
   "outputs": [],
   "source": [
    "table.write.partitionBy(\"date\").mode(\"overwrite\").csv(destination)"
   ]
  },
  {
   "cell_type": "code",
   "execution_count": null,
   "id": "215bd39e-6571-4975-9e77-684b6dcefb5c",
   "metadata": {},
   "outputs": [],
   "source": [
    "table = spark.sql(\"\"\"\n",
    "    select\n",
    "        actor.login\n",
    "        , id as event_id\n",
    "        , actor.url as actor_url\n",
    "    from\n",
    "        staging_events\n",
    "\"\"\")\n",
    "destination = \"actors\"\n",
    "table.write.mode(\"overwrite\").csv(destination)"
   ]
  },
  {
   "cell_type": "code",
   "execution_count": null,
   "id": "6ae1f1f8-bd2a-496c-a7aa-58d375d380b0",
   "metadata": {},
   "outputs": [],
   "source": [
    "table = spark.sql(\"\"\"\n",
    "    select\n",
    "        repo.name\n",
    "        , id as event_id\n",
    "        , repo.url as repo_url\n",
    "        \n",
    "    from\n",
    "        staging_events\n",
    "\"\"\")\n",
    "destination = \"repos\"\n",
    "table.write.mode(\"overwrite\").csv(destination)"
   ]
  },
  {
   "cell_type": "code",
   "execution_count": null,
   "id": "e226c4bc-42ef-4ee3-85ee-2d485a5b4f8a",
   "metadata": {},
   "outputs": [],
   "source": []
  }
 ],
 "metadata": {
  "kernelspec": {
   "display_name": "Python 3 (ipykernel)",
   "language": "python",
   "name": "python3"
  },
  "language_info": {
   "codemirror_mode": {
    "name": "ipython",
    "version": 3
   },
   "file_extension": ".py",
   "mimetype": "text/x-python",
   "name": "python",
   "nbconvert_exporter": "python",
   "pygments_lexer": "ipython3",
   "version": "3.11.6"
  }
 },
 "nbformat": 4,
 "nbformat_minor": 5
}
